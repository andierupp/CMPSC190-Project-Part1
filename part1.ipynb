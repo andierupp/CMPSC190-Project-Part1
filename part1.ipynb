{
 "metadata": {
  "language_info": {
   "codemirror_mode": {
    "name": "ipython",
    "version": 3
   },
   "file_extension": ".py",
   "mimetype": "text/x-python",
   "name": "python",
   "nbconvert_exporter": "python",
   "pygments_lexer": "ipython3",
   "version": "3.8.2-final"
  },
  "orig_nbformat": 2,
  "kernelspec": {
   "name": "Python 3.8.2 64-bit",
   "display_name": "Python 3.8.2 64-bit",
   "metadata": {
    "interpreter": {
     "hash": "aee8b7b246df8f9039afb4144a1f6fd8d2ca17a180786b69acc140d282b71a49"
    }
   }
  }
 },
 "nbformat": 4,
 "nbformat_minor": 2,
 "cells": [
  {
   "cell_type": "code",
   "execution_count": 16,
   "metadata": {},
   "outputs": [],
   "source": [
    "from scipy import integrate\n",
    "from itertools import product\n",
    "import matplotlib.pyplot as plt\n",
    "import matplotlib as mpl\n",
    "from cycler import cycler"
   ]
  },
  {
   "cell_type": "code",
   "execution_count": 14,
   "metadata": {},
   "outputs": [
    {
     "output_type": "stream",
     "name": "stdout",
     "text": [
      "N\n100000.0\nSvc_0_pmf\n[[0.10953309 0.03300776 0.08179044 0.11593994]\n [0.03089752 0.08511994 0.04528764 0.05718283]\n [0.07471465 0.02495643 0.10236599 0.04256696]\n [0.01605863 0.08109608 0.09158212 0.00789999]]\nLc\n[0.3 0.4 0.7 1. ]\nIc_0\n[47 90 51 65]\ngamma\n0.07142857142857142\n"
     ]
    }
   ],
   "source": [
    "import numpy as np\n",
    "npz = np.load('part1a.npz')\n",
    "lst = npz.files\n",
    "\n",
    "\n",
    "for item in lst:\n",
    "  print(item)\n",
    "  print(npz[item])\n",
    "\n",
    "N = npz ['N']\n",
    "SVC_0_pmf = npz['Svc_0_pmf']\n",
    "Lc = npz['Lc'] \n",
    "I_v= npz['Ic_0']\n",
    "gamma = npz['gamma']\n",
    "\n",
    "\n",
    "R = np.zeros(1)\n",
    "R[0] = 0\n",
    "S_v = np.multiply(SVC_0_pmf, N)\n",
    "S_v = S_v.flatten()\n",
    "Z = np.zeros(21)\n",
    "I = np.sum(I_v)\n",
    "S_v_I_v_R = np.concatenate((S_v,I_v, R ))"
   ]
  },
  {
   "source": [
    "### Relavent information \n",
    "-  Lc is the viral load for a person in the comorbidity compartment c.\n",
    "- γ is the reciprocal of the typical time until an infected person recovers (or succumbs)\n",
    "- The known model parameters are the \n",
    "    - **initial susceptible populations** in each compartment in each leaf node, \n",
    "    - the **initial infected populations Ic** in each leaf node, Lc values and γ\n",
    "    - assume that **initial recovered populations are zero** (i.e. R = 0) and that initially Sv,c >> Ic for all v and c, therefore N = sum S sub 0 v and c \n",
    "\n",
    "- What is not known \n",
    "    - Bvc \n",
    "\n",
    "- SVC PMF \n",
    "    - Probability Distribution is a statistical function which links or lists all the possible outcomes a random variable can take, in any random process, with its corresponding probability of occurrence.\n",
    "\n",
    "NOTES\n",
    "    \n",
    "    I sum = all elements of Iv \n",
    "\n",
    "     S[0] will be S_{0,0}\n",
    "     S[1] will represent S_{0,1}\n",
    "      S[4] will represent S_{1,0} \n",
    "     Svc_0_pmf array gives the joint probability distribution over v and c for example Svc_0_pmf[0,1] holds the value of PMF of S(v=0, c=1)\n",
    "     s is of size 16 \n",
    "     S+I+R = 0?\n",
    "    S = 16, Z should be of size 21 \n",
    "     second argument corresponds to each variable used in the equation\n",
    "     first 16 indicies belong to \n",
    "     was unsure how to represent that  dIc/dt was composed of dSvc/dt this is what I came up with but I'm still unsure \n",
    "    what is being returnd by G is the first right hand values \n",
    "     probably due that in a four loop \n",
    "    hold all right hand side that compute in some sort of an array \n",
    "     do the same for I \n",
    "     for R. compute dr/ dt concationate all and have array of 21 vlaues \n",
    "    gives array to be returned same size as Z\n",
    "     I=I[0]+I[1]+..+I[3] \n",
    "     I vector vs I sum "
   ],
   "cell_type": "markdown",
   "metadata": {}
  },
  {
   "cell_type": "code",
   "execution_count": 18,
   "metadata": {},
   "outputs": [
    {
     "output_type": "error",
     "ename": "ValueError",
     "evalue": "`y0` must be 1-dimensional.",
     "traceback": [
      "\u001b[0;31m---------------------------------------------------------------------------\u001b[0m",
      "\u001b[0;31mValueError\u001b[0m                                Traceback (most recent call last)",
      "\u001b[0;32m<ipython-input-18-0f2d3fc650f2>\u001b[0m in \u001b[0;36m<module>\u001b[0;34m\u001b[0m\n\u001b[1;32m     53\u001b[0m \u001b[0;34m\u001b[0m\u001b[0m\n\u001b[1;32m     54\u001b[0m \u001b[0;34m\u001b[0m\u001b[0m\n\u001b[0;32m---> 55\u001b[0;31m     soln_obj=integrate.solve_ivp(lotka_volterra, (t[0],t[-1]), initial_condition, \\\n\u001b[0m\u001b[1;32m     56\u001b[0m                             args=(B, I, gamma, N), dense_output=True)\n\u001b[1;32m     57\u001b[0m         \u001b[0;31m# sol obj. solve fed t, will give all the time series once .solve is used will give the time series of each of the steps\u001b[0m\u001b[0;34m\u001b[0m\u001b[0;34m\u001b[0m\u001b[0;34m\u001b[0m\u001b[0m\n",
      "\u001b[0;32m/Library/Frameworks/Python.framework/Versions/3.8/lib/python3.8/site-packages/scipy/integrate/_ivp/ivp.py\u001b[0m in \u001b[0;36msolve_ivp\u001b[0;34m(fun, t_span, y0, method, t_eval, dense_output, events, vectorized, args, **options)\u001b[0m\n\u001b[1;32m    540\u001b[0m         \u001b[0mmethod\u001b[0m \u001b[0;34m=\u001b[0m \u001b[0mMETHODS\u001b[0m\u001b[0;34m[\u001b[0m\u001b[0mmethod\u001b[0m\u001b[0;34m]\u001b[0m\u001b[0;34m\u001b[0m\u001b[0;34m\u001b[0m\u001b[0m\n\u001b[1;32m    541\u001b[0m \u001b[0;34m\u001b[0m\u001b[0m\n\u001b[0;32m--> 542\u001b[0;31m     \u001b[0msolver\u001b[0m \u001b[0;34m=\u001b[0m \u001b[0mmethod\u001b[0m\u001b[0;34m(\u001b[0m\u001b[0mfun\u001b[0m\u001b[0;34m,\u001b[0m \u001b[0mt0\u001b[0m\u001b[0;34m,\u001b[0m \u001b[0my0\u001b[0m\u001b[0;34m,\u001b[0m \u001b[0mtf\u001b[0m\u001b[0;34m,\u001b[0m \u001b[0mvectorized\u001b[0m\u001b[0;34m=\u001b[0m\u001b[0mvectorized\u001b[0m\u001b[0;34m,\u001b[0m \u001b[0;34m**\u001b[0m\u001b[0moptions\u001b[0m\u001b[0;34m)\u001b[0m\u001b[0;34m\u001b[0m\u001b[0;34m\u001b[0m\u001b[0m\n\u001b[0m\u001b[1;32m    543\u001b[0m \u001b[0;34m\u001b[0m\u001b[0m\n\u001b[1;32m    544\u001b[0m     \u001b[0;32mif\u001b[0m \u001b[0mt_eval\u001b[0m \u001b[0;32mis\u001b[0m \u001b[0;32mNone\u001b[0m\u001b[0;34m:\u001b[0m\u001b[0;34m\u001b[0m\u001b[0;34m\u001b[0m\u001b[0m\n",
      "\u001b[0;32m/Library/Frameworks/Python.framework/Versions/3.8/lib/python3.8/site-packages/scipy/integrate/_ivp/rk.py\u001b[0m in \u001b[0;36m__init__\u001b[0;34m(self, fun, t0, y0, t_bound, max_step, rtol, atol, vectorized, first_step, **extraneous)\u001b[0m\n\u001b[1;32m     87\u001b[0m                  first_step=None, **extraneous):\n\u001b[1;32m     88\u001b[0m         \u001b[0mwarn_extraneous\u001b[0m\u001b[0;34m(\u001b[0m\u001b[0mextraneous\u001b[0m\u001b[0;34m)\u001b[0m\u001b[0;34m\u001b[0m\u001b[0;34m\u001b[0m\u001b[0m\n\u001b[0;32m---> 89\u001b[0;31m         super(RungeKutta, self).__init__(fun, t0, y0, t_bound, vectorized,\n\u001b[0m\u001b[1;32m     90\u001b[0m                                          support_complex=True)\n\u001b[1;32m     91\u001b[0m         \u001b[0mself\u001b[0m\u001b[0;34m.\u001b[0m\u001b[0my_old\u001b[0m \u001b[0;34m=\u001b[0m \u001b[0;32mNone\u001b[0m\u001b[0;34m\u001b[0m\u001b[0;34m\u001b[0m\u001b[0m\n",
      "\u001b[0;32m/Library/Frameworks/Python.framework/Versions/3.8/lib/python3.8/site-packages/scipy/integrate/_ivp/base.py\u001b[0m in \u001b[0;36m__init__\u001b[0;34m(self, fun, t0, y0, t_bound, vectorized, support_complex)\u001b[0m\n\u001b[1;32m    117\u001b[0m         \u001b[0mself\u001b[0m\u001b[0;34m.\u001b[0m\u001b[0mt_old\u001b[0m \u001b[0;34m=\u001b[0m \u001b[0;32mNone\u001b[0m\u001b[0;34m\u001b[0m\u001b[0;34m\u001b[0m\u001b[0m\n\u001b[1;32m    118\u001b[0m         \u001b[0mself\u001b[0m\u001b[0;34m.\u001b[0m\u001b[0mt\u001b[0m \u001b[0;34m=\u001b[0m \u001b[0mt0\u001b[0m\u001b[0;34m\u001b[0m\u001b[0;34m\u001b[0m\u001b[0m\n\u001b[0;32m--> 119\u001b[0;31m         \u001b[0mself\u001b[0m\u001b[0;34m.\u001b[0m\u001b[0m_fun\u001b[0m\u001b[0;34m,\u001b[0m \u001b[0mself\u001b[0m\u001b[0;34m.\u001b[0m\u001b[0my\u001b[0m \u001b[0;34m=\u001b[0m \u001b[0mcheck_arguments\u001b[0m\u001b[0;34m(\u001b[0m\u001b[0mfun\u001b[0m\u001b[0;34m,\u001b[0m \u001b[0my0\u001b[0m\u001b[0;34m,\u001b[0m \u001b[0msupport_complex\u001b[0m\u001b[0;34m)\u001b[0m\u001b[0;34m\u001b[0m\u001b[0;34m\u001b[0m\u001b[0m\n\u001b[0m\u001b[1;32m    120\u001b[0m         \u001b[0mself\u001b[0m\u001b[0;34m.\u001b[0m\u001b[0mt_bound\u001b[0m \u001b[0;34m=\u001b[0m \u001b[0mt_bound\u001b[0m\u001b[0;34m\u001b[0m\u001b[0;34m\u001b[0m\u001b[0m\n\u001b[1;32m    121\u001b[0m         \u001b[0mself\u001b[0m\u001b[0;34m.\u001b[0m\u001b[0mvectorized\u001b[0m \u001b[0;34m=\u001b[0m \u001b[0mvectorized\u001b[0m\u001b[0;34m\u001b[0m\u001b[0;34m\u001b[0m\u001b[0m\n",
      "\u001b[0;32m/Library/Frameworks/Python.framework/Versions/3.8/lib/python3.8/site-packages/scipy/integrate/_ivp/base.py\u001b[0m in \u001b[0;36mcheck_arguments\u001b[0;34m(fun, y0, support_complex)\u001b[0m\n\u001b[1;32m     15\u001b[0m \u001b[0;34m\u001b[0m\u001b[0m\n\u001b[1;32m     16\u001b[0m     \u001b[0;32mif\u001b[0m \u001b[0my0\u001b[0m\u001b[0;34m.\u001b[0m\u001b[0mndim\u001b[0m \u001b[0;34m!=\u001b[0m \u001b[0;36m1\u001b[0m\u001b[0;34m:\u001b[0m\u001b[0;34m\u001b[0m\u001b[0;34m\u001b[0m\u001b[0m\n\u001b[0;32m---> 17\u001b[0;31m         \u001b[0;32mraise\u001b[0m \u001b[0mValueError\u001b[0m\u001b[0;34m(\u001b[0m\u001b[0;34m\"`y0` must be 1-dimensional.\"\u001b[0m\u001b[0;34m)\u001b[0m\u001b[0;34m\u001b[0m\u001b[0;34m\u001b[0m\u001b[0m\n\u001b[0m\u001b[1;32m     18\u001b[0m \u001b[0;34m\u001b[0m\u001b[0m\n\u001b[1;32m     19\u001b[0m     \u001b[0;32mdef\u001b[0m \u001b[0mfun_wrapped\u001b[0m\u001b[0;34m(\u001b[0m\u001b[0mt\u001b[0m\u001b[0;34m,\u001b[0m \u001b[0my\u001b[0m\u001b[0;34m)\u001b[0m\u001b[0;34m:\u001b[0m\u001b[0;34m\u001b[0m\u001b[0;34m\u001b[0m\u001b[0m\n",
      "\u001b[0;31mValueError\u001b[0m: `y0` must be 1-dimensional."
     ]
    }
   ],
   "source": [
    "\n",
    "color = plt.cm.jet(np.linspace(0.1,0.9,10))\n",
    "mpl.rcParams['axes.prop_cycle'] = cycler('color', color)\n",
    "#### color settings\n",
    "\n",
    "\n",
    "N = 10000\n",
    "# planning on creating a for loop to cycle through \n",
    "B = .5\n",
    "dS_dI_dr = np.zeros(21)\n",
    "\n",
    "def lotka_volterra(t, Z, B, I, gamma, N, S_v, I_v):\n",
    "    S_v,I_v,R=Z[0:16],Z[16:20],Z[20]\n",
    " \n",
    "    S_dt_arr = np.zeros(16)\n",
    "    for i in range (0,15):\n",
    "        S_dt_arr[i] = -((B * S_v[i] * I )/N)\n",
    "\n",
    "    I_dt_arr = np.zeros(4)\n",
    "    for i in range (0,3):\n",
    "        I_dt_arr[i] = (G- (gamma*I_v))\n",
    "\n",
    "\n",
    "    R_dt = np.zeros(1)\n",
    "    R_dt[0] = (gamma * I) \n",
    "\n",
    "    dS_dI_dr = np.concatenate((S_dt_arr,I_dt_arr,R_dt))\n",
    "\n",
    "    return dS_dI_dr\n",
    "\n",
    "# concatenaded array of solved DE, don't use any other place \n",
    "# once this function is defined the ode solver will use this equation, then solve me \n",
    "\n",
    "\n",
    "\n",
    "t=np.linspace(0,120,120)\n",
    "(S0 , I0 , R0)= (S_v, I_v, R)\n",
    "# all values computed by multiplying pmf with N, I = I , R = 0\n",
    "# inital consiitons of zise 21 concatenate all inital feed into here \n",
    "initial_conditions = S_v_I_v_R\n",
    "\n",
    "fig=plt.figure()\n",
    "for initial_condition in initial_conditions:\n",
    "\n",
    "    \n",
    "    soln_obj=integrate.solve_ivp(lotka_volterra, (t[0],t[-1]), initial_condition, \\\n",
    "                            args=(B, I, gamma, N), dense_output=True)\n",
    "        # sol obj. solve fed t, will give all the time series once .solve is used will give the time series of each of the steps                     \n",
    "    plot_handles.append(plt.plot(soln_obj.sol(t)[0],soln_obj.sol(t)[1], linewidth=1)[0])\n",
    "\n",
    "plt.annotate(f\"\", xy=(0.5, 0.9), \\\n",
    "            xycoords='axes fraction', size=9, ha='center', \\\n",
    "            va='center', bbox=dict(boxstyle='round', fc='w'))\n",
    "plt.xlabel(\"x\")\n",
    "plt.ylabel(\"y\").set_rotation(0)\n",
    "plt.gca().set_aspect('equal')\n",
    "plt.tight_layout()\n",
    "plt.show()\n"
   ]
  },
  {
   "cell_type": "code",
   "execution_count": null,
   "metadata": {},
   "outputs": [],
   "source": []
  }
 ]
}