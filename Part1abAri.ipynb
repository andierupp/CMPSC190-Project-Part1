{
 "cells": [
  {
   "cell_type": "code",
   "execution_count": 665,
   "metadata": {},
   "outputs": [],
   "source": [
    "import numpy as np\n",
    "import pandas as pd\n",
    "from scipy.integrate import solve_ivp\n",
    "import matplotlib.pyplot as plt"
   ]
  },
  {
   "cell_type": "code",
   "execution_count": 666,
   "metadata": {},
   "outputs": [
    {
     "name": "stdout",
     "output_type": "stream",
     "text": [
      "N\n",
      "100000.0\n",
      "Svc_0_pmf\n",
      "[[0.10953309 0.03300776 0.08179044 0.11593994]\n",
      " [0.03089752 0.08511994 0.04528764 0.05718283]\n",
      " [0.07471465 0.02495643 0.10236599 0.04256696]\n",
      " [0.01605863 0.08109608 0.09158212 0.00789999]]\n",
      "Lc\n",
      "[0.3 0.4 0.7 1. ]\n",
      "Ic_0\n",
      "[47 90 51 65]\n",
      "gamma\n",
      "0.07142857142857142\n",
      "99746.99999999997 [47 90 51 65] [0.]\n"
     ]
    }
   ],
   "source": [
    "npz = np.load('part1a.npz')\n",
    "lst = npz.files\n",
    "for item in lst:\n",
    "    print(item)\n",
    "    print(npz[item])\n",
    "\n",
    "N = npz['N']\n",
    "SVC_0_pmf = npz['Svc_0_pmf']\n",
    "Lc = npz['Lc'] \n",
    "I_v= npz['Ic_0']\n",
    "gamma = npz['gamma']\n",
    "R = np.zeros(1)\n",
    "R[0] = 0\n",
    "Z = np.zeros(21)\n",
    "I = np.sum(I_v)\n",
    "S__ = N - I # not sure. Do this so that the total population actually adds to 100000...\n",
    "S_v_c_2 = np.multiply(SVC_0_pmf, S__) # Preserve matrix form for later...\n",
    "S_v_c = S_v_c_2.flatten()\n",
    "S_v_I_v_R = np.concatenate((S_v_c,I_v, R)) \n",
    "print(S_v_c.sum(axis=0).sum(axis=0), I_v, R)"
   ]
  },
  {
   "cell_type": "code",
   "execution_count": 667,
   "metadata": {
    "scrolled": true
   },
   "outputs": [
    {
     "name": "stdout",
     "output_type": "stream",
     "text": [
      "[0.11520074 0.15667714 0.16165038 0.18035939 0.22656653 0.26424455\n",
      " 0.3628515  0.53946172 0.28663936 0.35298334 0.61467858 0.73664062\n",
      " 0.36620567 0.7634396  0.88207342 0.9897143 ]\n",
      "[[0.11520074 0.15667714 0.16165038 0.18035939]\n",
      " [0.22656653 0.26424455 0.3628515  0.53946172]\n",
      " [0.28663936 0.35298334 0.61467858 0.73664062]\n",
      " [0.36620567 0.7634396  0.88207342 0.9897143 ]]\n"
     ]
    }
   ],
   "source": [
    "# Part 1 a. Chose elements for B_v,c in [0.1]\n",
    "\n",
    "B_v_c = np.random.rand(16).reshape(4,4)\n",
    "B_v_c = np.sort(B_v_c, axis = 0)\n",
    "B_v_c_2 = np.sort(B_v_c, axis = 1) # Preserve matrix form for later...\n",
    "B_v_c = B_v_c_2.flatten() # Now we have elements (0,0) (0,1) (0,2) (0,3) (1,0) .... (3,3)\n",
    "print(B_v_c)\n",
    "print(B_v_c_2)"
   ]
  },
  {
   "cell_type": "code",
   "execution_count": 668,
   "metadata": {},
   "outputs": [],
   "source": [
    "def susceptible_pop_eq_simple(t, y):\n",
    "#     return -B_v_c * S * I/N\n",
    "    return [-B_v_c[0] * y[0] * y[1] / N,  B_v_c[0]*y[0]*y[1]-gamma*y[1], gamma*y[1]]"
   ]
  },
  {
   "cell_type": "code",
   "execution_count": 669,
   "metadata": {},
   "outputs": [
    {
     "data": {
      "text/plain": [
       "[<matplotlib.lines.Line2D at 0x7f915af52710>]"
      ]
     },
     "execution_count": 669,
     "metadata": {},
     "output_type": "execute_result"
    },
    {
     "data": {
      "image/png": "[encoded data removed]",
      "text/plain": [
       "<Figure size 432x288 with 1 Axes>"
      ]
     },
     "metadata": {
      "needs_background": "light"
     },
     "output_type": "display_data"
    }
   ],
   "source": [
    "sol_ = solve_ivp(fun = susceptible_pop_eq_simple, t_span = (0,120), y0 = [0.10953309, 47, 0])\n",
    "\n",
    "# Example without c and v\n",
    "# print(S_v_c.shape, B_v_c.shape, (S_v_c[0] * B_v_c[0] * I / N).shape)\n",
    "plt.plot(sol_.t, sol_.y[0])"
   ]
  },
  {
   "cell_type": "code",
   "execution_count": 727,
   "metadata": {},
   "outputs": [],
   "source": [
    "def susceptible_pop_eq(t, y):\n",
    "    # y is our S_v_I_v_R vector\n",
    "    # I = infected population\n",
    "    # Need to get sum of dS_v_c/dt made over v. Should be a (4,1) vector\n",
    "    # Sum over v. Should have column of c = 0, c= 1, c= 2, c=3\n",
    "#     S_sum_over_v = S_v_c_2.sum(axis=1) \n",
    "#     B_sum_over_v = B_v_c_2.sum(axis=1)\n",
    "#     I = y[16:20].sum()\n",
    "#     S_dt_arr = np.zeros(16)\n",
    "#     for i in range(16):\n",
    "#         S_dt_arr[i] = -(B_v_c[i] * S_v_c[i] * I/N)\n",
    "#     I_dt_arr = np.zeros(4)\n",
    "#     for i in range(4):\n",
    "#         I_dt_arr[i] = (B_sum_over_v[i] * S_sum_over_v[i] * I/N) - gamma*y[16+i]\n",
    "\n",
    "#     R_dt = np.zeros(1)\n",
    "#     R_dt[0] = (gamma * I) \n",
    "    \n",
    "#     dS_dI_dr = np.concatenate((S_dt_arr,I_dt_arr,R_dt))\n",
    "    S_vector=y[:16]\n",
    "    I_vector=y[16:20]\n",
    "    R=y[20]\n",
    "    dSvc_dt = -(B_v_c * S_v_c * I_vector.sum()/N)\n",
    "    dS_v = dSvc_dt.reshape(4,4).sum(axis=0)\n",
    "#     dsums = [-sum(dSvc_dt[0:4]), -sum(dSvc_dt[4:8]), -sum(dSvc_dt[8:12]), -sum(dSvc_dt[12:16])]\n",
    "    dIc_dt = -(dS_v) - gamma * I_vector\n",
    "    dR_dt = gamma * I_vector.sum()\n",
    "    dS_dI_dr = np.concatenate((dSvc_dt, dIc_dt, [dR_dt]), axis = 0)\n",
    "    return dS_dI_dr"
   ]
  },
  {
   "cell_type": "code",
   "execution_count": 728,
   "metadata": {},
   "outputs": [],
   "source": [
    "sol = solve_ivp(fun = susceptible_pop_eq, t_span = (0,120,1), y0 = S_v_I_v_R)"
   ]
  },
  {
   "cell_type": "code",
   "execution_count": 729,
   "metadata": {
    "scrolled": true
   },
   "outputs": [
    {
     "data": {
      "text/plain": [
       "[<matplotlib.lines.Line2D at 0x7f915e4385d0>]"
      ]
     },
     "execution_count": 729,
     "metadata": {},
     "output_type": "execute_result"
    },
    {
     "data": {
      "image/png": "[encoded data removed]",
      "text/plain": [
       "<Figure size 432x288 with 1 Axes>"
      ]
     },
     "metadata": {
      "needs_background": "light"
     },
     "output_type": "display_data"
    }
   ],
   "source": [
    "plt.plot(sol.t, sol.y[5])"
   ]
  },
  {
   "cell_type": "code",
   "execution_count": 730,
   "metadata": {},
   "outputs": [
    {
     "data": {
      "text/plain": [
       "[<matplotlib.lines.Line2D at 0x7f915e53d3d0>]"
      ]
     },
     "execution_count": 730,
     "metadata": {},
     "output_type": "execute_result"
    },
    {
     "data": {
      "image/png": "[encoded data removed]",
      "text/plain": [
       "<Figure size 432x288 with 1 Axes>"
      ]
     },
     "metadata": {
      "needs_background": "light"
     },
     "output_type": "display_data"
    }
   ],
   "source": [
    "plt.plot(sol.t, sol.y[20])"
   ]
  },
  {
   "cell_type": "code",
   "execution_count": 731,
   "metadata": {},
   "outputs": [
    {
     "data": {
      "text/plain": [
       "[<matplotlib.lines.Line2D at 0x7f915e6c8f90>]"
      ]
     },
     "execution_count": 731,
     "metadata": {},
     "output_type": "execute_result"
    },
    {
     "data": {
      "image/png": "[encoded data removed]",
      "text/plain": [
       "<Figure size 432x288 with 1 Axes>"
      ]
     },
     "metadata": {
      "needs_background": "light"
     },
     "output_type": "display_data"
    }
   ],
   "source": [
    "plt.plot(sol.t, sol.y[20])"
   ]
  },
  {
   "cell_type": "code",
   "execution_count": 732,
   "metadata": {},
   "outputs": [
    {
     "data": {
      "image/png": "[encoded data removed]",
      "text/plain": [
       "<Figure size 432x288 with 1 Axes>"
      ]
     },
     "metadata": {
      "needs_background": "light"
     },
     "output_type": "display_data"
    }
   ],
   "source": [
    "# %matplotlib inline\n",
    "for i in range(16):\n",
    "    plt.plot(sol.t, sol.y[i])"
   ]
  },
  {
   "cell_type": "code",
   "execution_count": 733,
   "metadata": {},
   "outputs": [
    {
     "data": {
      "image/png": "[encoded data removed]",
      "text/plain": [
       "<Figure size 432x288 with 1 Axes>"
      ]
     },
     "metadata": {
      "needs_background": "light"
     },
     "output_type": "display_data"
    }
   ],
   "source": [
    "import seaborn as sns\n",
    "for i in range(16,20):\n",
    "    sns.lineplot(sol.t, sol.y[i])\n"
   ]
  },
  {
   "cell_type": "code",
   "execution_count": 782,
   "metadata": {},
   "outputs": [
    {
     "name": "stdout",
     "output_type": "stream",
     "text": [
      "N\n",
      "50000.0\n",
      "Lc\n",
      "[0.3 0.4 0.7 1. ]\n",
      "Ic_0\n",
      "[[47 90 51 65]\n",
      " [82 31 64 86]\n",
      " [30 66 39 47]\n",
      " [59 26 77 38]\n",
      " [20 63 70 15]\n",
      " [35 31 78 11]\n",
      " [50 55 93 26]\n",
      " [17 89 65 25]\n",
      " [70 27 66 97]\n",
      " [20 18 32 31]\n",
      " [76 13 61 15]\n",
      " [86 48 36 89]\n",
      " [96 15 44 71]\n",
      " [81 53 19 36]\n",
      " [29 44 99 36]\n",
      " [25 34 16 28]\n",
      " [23 84 71 31]\n",
      " [91 70 90 90]\n",
      " [32 11 68 81]\n",
      " [34 37 48 41]]\n",
      "gamma\n",
      "0.07142857142857142\n",
      "L_validation\n",
      "[[  151.15723798   157.09236032   166.0663423    175.26894184\n",
      "    187.12271809   200.29536627   207.19011153   220.23944915\n",
      "    235.52590645   247.09469931   263.51055631   281.18896107\n",
      "    304.53407513   316.7776232    337.4146583    359.08603642\n",
      "    376.95873111   410.63777058   432.23666001   466.32640805]\n",
      " [  168.20103748   175.31698233   184.41546073   191.23318015\n",
      "    200.38958258   212.84378649   222.09570163   237.44506788\n",
      "    251.13497681   263.20329764   281.12505942   299.02683147\n",
      "    312.07088043   336.08191882   353.17466265   372.3214408\n",
      "    404.21116271   424.09816716   450.52039605   482.72819186]\n",
      " [  108.25555772   116.61301613   122.162737     128.61290071\n",
      "    136.27974903   143.16249542   153.75545994   158.05373752\n",
      "    171.84080869   178.44468654   190.6241656    202.74814433\n",
      "    214.01601724   233.09216822   246.84519371   265.9302079\n",
      "    277.11406479   298.23288273   319.98076886   335.74020325]\n",
      " [  121.06511809   127.92622111   135.55296184   139.17575568\n",
      "    145.96802355   155.66883429   164.0805325    178.1596537\n",
      "    185.66887853   198.39032731   208.02895346   228.30967547\n",
      "    238.76305577   252.39827455   266.91510839   288.52708087\n",
      "    307.45415685   327.0509159    340.54791241   369.24496959]\n",
      " [   96.28146613   100.45775325   104.28133454   112.92946664\n",
      "    121.2606668    127.70950132   135.47036843   144.6282618\n",
      "    154.01031199   164.18497614   171.82450374   187.24907836\n",
      "    197.50744069   209.13508126   225.85010003   241.34624758\n",
      "    251.78048183   274.63197777   291.14082196   315.04205441]\n",
      " [   89.06213629   104.33672899   122.66761528   148.65036509\n",
      "    176.68799415   211.69862293   249.55697169   298.09036804\n",
      "    351.57566439   420.58582498   507.23737581   601.50138143\n",
      "    718.19595226   854.73444518  1019.02544316  1204.7460187\n",
      "   1420.63526393  1643.67767873  1946.12597446  2247.53972166]\n",
      " [  131.37517442   150.66522888   176.78920214   213.10475279\n",
      "    252.07799809   300.46925208   362.02097279   434.57939204\n",
      "    507.55359925   605.52682981   718.63541606   848.87891235\n",
      "   1011.88696143  1199.09862146  1407.23294192  1665.57448004\n",
      "   1936.13503201  2271.83643442  2614.88919999  3017.16077201]\n",
      " [  112.92686331   132.15184146   156.53768593   188.4478975\n",
      "    220.41667622   264.12948171   313.26909083   378.04068686\n",
      "    444.93075375   533.22501909   627.90245518   750.58064848\n",
      "    894.05126796  1044.38802306  1258.07099998  1472.33518628\n",
      "   1726.96894717  2003.52892004  2373.60991581  2753.68330122]\n",
      " [  175.105311     197.69655277   234.37314189   271.82141539\n",
      "    317.88788977   361.65155891   427.52854491   513.258584\n",
      "    601.87657508   723.04283772   844.05086649  1010.14251497\n",
      "   1170.7094332   1373.91854256  1615.65158449  1913.5241355\n",
      "   2204.17051701  2611.110637    2984.04351489  3323.97008123]\n",
      " [   67.52879228    76.57813082    89.0125467    102.5198856\n",
      "    118.56093212   144.53933247   169.4576684    199.71096744\n",
      "    236.75102967   285.63418153   334.33779862   405.53719896\n",
      "    479.03227522   576.36874428   682.29023975   790.47768935\n",
      "    941.00368005  1131.40243604  1339.00100619  1538.72273508]\n",
      " [   84.50851597   132.40305419   199.27048727   306.86490477\n",
      "    448.33394085   659.79509944   966.8382816   1408.04061276\n",
      "   1991.25115427  2753.2034935   3838.88928909  5287.90279901\n",
      "   6910.96802999  8507.78727263 10572.16125555 12118.87087196\n",
      "  13649.28543143 14591.24871753 15080.19984373 15471.38525153]\n",
      " [  156.55620899   227.66397515   341.09459149   497.44525502\n",
      "    721.52530244  1041.97887172  1480.65257611  2115.67557292\n",
      "   2992.16795938  4106.51767116  5408.814675    7068.42978728\n",
      "   9045.37394677 10675.57773428 12344.14134148 13664.66483466\n",
      "  14734.88000442 15242.1582421  15135.21194638 15223.21579884]\n",
      " [  138.30209136   203.07824386   291.85824175   428.6616985\n",
      "    627.92754503   890.19804119  1302.53849147  1874.05901895\n",
      "   2643.71025746  3699.9047597   4923.09414029  6474.26215564\n",
      "   8277.9573922  10221.07148451 11904.81422828 13341.3510476\n",
      "  14160.52341758 14701.81214102 15423.31432755 15159.04680442]\n",
      " [   95.04501927   150.1809574    224.7344325    344.00365265\n",
      "    520.23290149   759.27068646  1090.32048613  1581.78874913\n",
      "   2273.41347764  3190.80026541  4299.58963994  5812.82111235\n",
      "   7422.13482588  9235.40649723 11166.58518237 12540.56460812\n",
      "  13737.0028421  14877.44432311 15048.97619561 15489.54588275]\n",
      " [  131.93192255   186.85361337   277.03062593   404.63099911\n",
      "    575.34966707   836.38859013  1223.30799298  1716.20456134\n",
      "   2470.09882439  3413.17038855  4725.92459331  6174.32428944\n",
      "   7887.42725503  9957.82609246 11567.94896888 13172.6574451\n",
      "  14122.31184166 14713.99593347 15174.88267772 15437.99060255]\n",
      " [   60.77045199   120.91993594   229.20012877   424.87751772\n",
      "    738.97444767  1314.52763749  2222.43999871  3692.68901232\n",
      "   6000.8203981   9049.99753567 12690.04447186 16655.88233055\n",
      "  19747.56679312 21787.75037584 22627.79013072 23445.13001036\n",
      "  22677.20541685 21877.67602571 20436.502653   19502.73252576]\n",
      " [  121.30830846   248.55897273   464.19185064   848.4145724\n",
      "   1470.74896231  2590.26301101  4187.45193444  6622.24492026\n",
      "   9944.44804212 13852.35336844 17338.82803959 20383.6782321\n",
      "  22233.97539818 23179.33546186 22652.8232763  22313.893838\n",
      "  21632.8799408  20321.19775285 19748.04406276 18354.98298979]\n",
      " [  206.00564717   411.80340974   754.55816952  1355.89435567\n",
      "   2300.96388328  3972.59440034  6244.13549702  9592.25014606\n",
      "  13467.30313529 17266.97746581 20608.59140077 22127.93933273\n",
      "  22705.38820659 23288.91146068 22355.03930188 21614.78077635\n",
      "  20897.34290447 19399.90655074 18473.32991425 17333.22850926]\n",
      " [  141.15541354   252.11282994   447.87010336   804.98371553\n",
      "   1390.81526165  2338.55423544  3908.66795644  6217.21603483\n",
      "   9445.26278568 13152.40280556 16777.61187643 19971.85021429\n",
      "  22044.54357889 22674.98277457 22858.01325296 23058.16884912\n",
      "  21549.55447274 20978.40787997 19569.37320476 18285.17955768]\n",
      " [   99.93560666   199.54808293   365.8590521    650.42023491\n",
      "   1156.31487856  1988.64188088  3377.13329978  5397.94868832\n",
      "   8243.85082791 12039.72208365 15835.67211362 19128.32534246\n",
      "  21390.90254458 22982.235817   22965.83050233 22688.4269024\n",
      "  22211.68343591 21161.29363716 20100.97646445 18900.25140752]]\n",
      "L_test\n",
      "[[  152.46841511   154.11143236   157.22848172   156.85896273\n",
      "    165.60344116   166.71677395   171.64806578   173.13072121\n",
      "    175.48779126   180.40479827   182.88554781   189.51323332\n",
      "    195.21096857   197.69476737   204.113851     208.0223731\n",
      "    213.13459791   214.65126757   220.34617421   227.80681704]\n",
      " [  171.12165379   170.22707456   173.96768351   176.55776282\n",
      "    176.55009362   182.47019365   184.92694888   184.58678126\n",
      "    190.58480709   195.638179     198.27786969   198.66185132\n",
      "    204.24171451   211.25675259   217.95244275   215.08302033\n",
      "    220.09134053   224.89209543   231.89625197   236.55388221]\n",
      " [  111.41537848   112.32395847   114.60258306   117.19547596\n",
      "    118.4906049    121.51322815   124.59019363   126.3209392\n",
      "    129.33293987   130.56369982   136.5786075    135.57016647\n",
      "    139.95442086   141.87311764   146.13436488   149.09780864\n",
      "    154.3112918    156.17907135   160.77692959   165.37286452]\n",
      " [  119.35797753   121.59752795   122.71350909   128.08342145\n",
      "    128.78984452   133.21529267   138.76452636   138.74740353\n",
      "    141.57446889   144.62966314   147.26869245   151.33923515\n",
      "    151.95250029   156.46707439   160.32900529   163.96452201\n",
      "    169.5358297    173.03507172   173.17711533   178.98420417]\n",
      " [   96.97536027    98.86723099   100.53612369   102.79550023\n",
      "    104.88886781   107.96524018   110.91139029   114.14424629\n",
      "    116.67388753   121.51106182   122.66802995   122.56498183\n",
      "    126.72896087   131.64537967   135.01414053   136.24800525\n",
      "    137.3177027    142.73965762   147.5137264    148.04525429]\n",
      " [   87.85258214   105.69767595   125.78793099   147.70972364\n",
      "    173.6461787    206.55172074   249.62222804   297.49342586\n",
      "    355.3443552    419.51257863   508.43679405   605.041374\n",
      "    706.41998546   839.37916859  1005.01774748  1204.53216979\n",
      "   1401.80568991  1646.45512254  1970.91816047  2246.45475338]\n",
      " [  127.87495858   152.03217593   179.21002475   214.77844307\n",
      "    253.28686263   299.69714335   360.80780954   425.92501961\n",
      "    511.86150278   609.3656281    716.8627482    859.34887643\n",
      "   1007.48646765  1191.01573086  1417.44523877  1650.22472152\n",
      "   1951.02146772  2234.13107517  2633.05351397  2989.44664064]\n",
      " [  112.22145497   132.2603536    155.2473819    187.99736239\n",
      "    222.45525274   261.96537936   308.67441411   369.75358483\n",
      "    445.34042022   528.96731321   643.27289696   756.5697905\n",
      "    892.28551873  1054.13599263  1258.86664389  1454.3984754\n",
      "   1713.95553108  2001.87838506  2364.55208975  2697.33258516]\n",
      " [  175.00241035   199.66354229   226.57362887   269.18020633\n",
      "    316.58606326   365.03659033   434.87442752   516.10048621\n",
      "    612.21673481   705.81338922   837.96753529  1008.7534316\n",
      "   1168.86171254  1377.51319603  1652.88274786  1871.70961637\n",
      "   2208.92430093  2507.48080873  2932.0833903   3302.67395979]\n",
      " [   66.3040283     75.86501511    88.43608617   104.19508957\n",
      "    122.03021351   142.21395891   172.38722338   201.63025895\n",
      "    237.03222902   283.1340542    338.72394408   402.31446703\n",
      "    481.79810887   571.42341982   669.99792331   796.24231748\n",
      "    949.21237068  1123.91867096  1317.36470305  1584.40743586]\n",
      " [   86.6323939    136.15153963   205.61279026   316.46929181\n",
      "    472.7588065    689.80272184  1036.67689685  1522.91546706\n",
      "   2194.20914582  3095.60654453  4351.44169937  5914.9381782\n",
      "   7710.43766322  9525.82550678 11361.84050468 12939.14181409\n",
      "  14466.0690992  14748.32976647 15593.63269403 15858.93624069]\n",
      " [  160.30337972   235.05589994   345.1375873    510.93230818\n",
      "    760.04659202  1097.78526334  1616.48294209  2332.56404965\n",
      "   3288.82186167  4535.90421573  5972.81964973  7906.32532428\n",
      "   9877.99355345 11649.24504896 13175.83902722 14504.38431367\n",
      "  15344.73522874 15822.84586699 15746.47160611 15336.85231587]\n",
      " [  137.39386545   200.60582419   298.35421808   447.15574185\n",
      "    652.10349865   957.81856925  1416.33497815  2007.70540463\n",
      "   2889.73310412  3971.30817046  5533.04498991  7307.37181616\n",
      "   9180.5400471  11117.60109462 13038.39597435 13905.93769388\n",
      "  14717.10441028 15269.21134482 15452.25085342 15649.02860826]\n",
      " [   95.10833631   151.62092117   234.73758258   360.78385859\n",
      "    537.30733494   801.22260014  1188.17548172  1731.17101011\n",
      "   2437.61566321  3505.16630598  4778.07240381  6347.74949628\n",
      "   8266.24186366 10243.18246168 12081.43674208 13602.57446597\n",
      "  14610.7210204  15347.81493639 15860.64699137 15802.46960219]\n",
      " [  132.78900479   193.69946036   283.37484004   411.736385\n",
      "    620.35981828   897.96047201  1310.26086683  1893.42722115\n",
      "   2685.3710914   3815.72801825  5220.26600276  6727.61279874\n",
      "   8820.57937773 10509.73310807 12349.19314906 13856.73819367\n",
      "  14670.48312375 15429.75571161 15528.30929396 15460.20457365]\n",
      " [   59.51992123   135.14939228   281.37197514   544.21750189\n",
      "   1068.36734445  2020.64237283  3748.44041247  6339.0457232\n",
      "  10526.38246611 15191.32895623 19694.26148116 22525.90266304\n",
      "  24147.76119457 24250.76927453 23948.91524822 22639.80849645\n",
      "  21461.63830858 20581.66043419 19460.48332324 17959.02793703]\n",
      " [  121.12920041   274.5211383    557.97782605  1105.77212065\n",
      "   2062.48651075  3854.8972653   6763.43987523 10818.42352416\n",
      "  15454.97615022 19847.86741086 22850.67674274 24241.95329876\n",
      "  24112.38862694 24005.73427411 23043.53865264 21634.55777023\n",
      "  20090.64403774 19013.85946244 18104.4340697  17051.37393173]\n",
      " [  205.62647005   459.5065768    922.68552179  1737.9721372\n",
      "   3336.66287175  5928.35594268  9694.00582387 14519.06026306\n",
      "  18742.96729418 21762.01231857 24015.07417243 24557.83689198\n",
      "  23878.34418234 23114.1079338  21664.52309949 20804.640726\n",
      "  19301.07016074 18397.27527268 17075.931016   15999.39267181]\n",
      " [  143.62129787   279.14912231   544.2994391   1036.57218591\n",
      "   1956.71229675  3594.73406484  6351.28772058 10358.73797076\n",
      "  14760.11300148 19382.5976519  22531.56869662 24250.39737346\n",
      "  24341.56792771 23890.14836884 22501.74592976 21810.34521316\n",
      "  20189.89917612 19518.87239983 17781.28433088 16804.80324396]\n",
      " [   98.77729948   215.28638372   435.8441589    860.21011997\n",
      "   1610.59047535  3071.27927156  5416.61753987  9174.68348607\n",
      "  13504.50744856 18014.08398244 21545.91347925 24038.27505277\n",
      "  24445.00059828 24382.15058568 23180.67987773 22548.38392058\n",
      "  20938.7813202  19981.65702391 18565.34464273 17363.74480955]]\n",
      "betas_validation\n",
      "[[0.1  0.15 0.2  0.25]\n",
      " [0.2  0.25 0.3  0.4 ]\n",
      " [0.35 0.45 0.5  0.6 ]\n",
      " [0.4  0.5  0.6  0.8 ]]\n"
     ]
    }
   ],
   "source": [
    "# Part 1b\n",
    "data_ = np.load('part1b.npz')\n",
    "lst_ = data.files\n",
    "for item in lst_:\n",
    "    print(item)\n",
    "    print(data_[item])\n",
    "\n",
    "N = data_['N']\n",
    "Lc = data_['Lc']\n",
    "Ic_0 = data_['Ic_0']\n",
    "gamma = data_['gamma']\n",
    "L_validation = data_['L_validation']\n",
    "L_test = data_['L_test']\n",
    "betas_validation = data_['betas_validation']"
   ]
  },
  {
   "cell_type": "code",
   "execution_count": 783,
   "metadata": {},
   "outputs": [
    {
     "name": "stdout",
     "output_type": "stream",
     "text": [
      "(20, 20)\n"
     ]
    }
   ],
   "source": [
    "print(L_validation.shape)\n",
    "np.sum(Lc * Ic_0[1])\n",
    "b_c = 0.20"
   ]
  },
  {
   "cell_type": "code",
   "execution_count": 811,
   "metadata": {},
   "outputs": [],
   "source": [
    "def susceptible_pop_eq_b(t, y, beta):\n",
    "    S_c = y[0:4]\n",
    "    I_c = y[4:8]\n",
    "    R = y[8]\n",
    "    dS_dt = -beta * S_c * I/N # This should be a 4x1 vector\n",
    "    dI_dt = -dS_dt - gamma * I_c\n",
    "    dR_dt = gamma * I_c.sum()\n",
    "    dS_dI_dR = np.concatenate((dS_dt, dI_dt, [dR_dt]))\n",
    "    return dS_dI_dR"
   ]
  },
  {
   "cell_type": "code",
   "execution_count": 808,
   "metadata": {},
   "outputs": [],
   "source": [
    "\n",
    "sol_object = solve_ivp(fun = susceptible_pop_eq_b, t_span = (0,20),y0 = np.array([25000, 15000, 5000, 5000, 47, 90, 51, 65,0]))"
   ]
  },
  {
   "cell_type": "code",
   "execution_count": null,
   "metadata": {},
   "outputs": [],
   "source": []
  },
  {
   "cell_type": "code",
   "execution_count": 809,
   "metadata": {},
   "outputs": [
    {
     "data": {
      "text/plain": [
       "[<matplotlib.lines.Line2D at 0x7f915fe02d90>]"
      ]
     },
     "execution_count": 809,
     "metadata": {},
     "output_type": "execute_result"
    },
    {
     "data": {
      "image/png": "[encoded data removed]",
      "text/plain": [
       "<Figure size 432x288 with 1 Axes>"
      ]
     },
     "metadata": {
      "needs_background": "light"
     },
     "output_type": "display_data"
    }
   ],
   "source": [
    "plt.plot(sol_object.t, sol_object.y[0])"
   ]
  },
  {
   "cell_type": "code",
   "execution_count": 827,
   "metadata": {},
   "outputs": [
    {
     "name": "stdout",
     "output_type": "stream",
     "text": [
      "[0.   0.05 0.1  0.15 0.2  0.25 0.3  0.35 0.4  0.45 0.5  0.55 0.6  0.65\n",
      " 0.7  0.75 0.8  0.85 0.9  0.95 1.  ]\n"
     ]
    },
    {
     "ename": "TypeError",
     "evalue": "susceptible_pop_eq_b() takes 3 positional arguments but 6 were given",
     "output_type": "error",
     "traceback": [
      "\u001b[0;31m---------------------------------------------------------------------------\u001b[0m",
      "\u001b[0;31mTypeError\u001b[0m                                 Traceback (most recent call last)",
      "\u001b[0;32m<ipython-input-827-17c0bbc365c9>\u001b[0m in \u001b[0;36m<module>\u001b[0;34m\u001b[0m\n\u001b[1;32m     16\u001b[0m \u001b[0;31m#     Construct y, which has S_0, I_0, R_0\u001b[0m\u001b[0;34m\u001b[0m\u001b[0;34m\u001b[0m\u001b[0;34m\u001b[0m\u001b[0m\n\u001b[1;32m     17\u001b[0m     \u001b[0mbeta\u001b[0m \u001b[0;34m=\u001b[0m \u001b[0mnp\u001b[0m\u001b[0;34m.\u001b[0m\u001b[0marray\u001b[0m\u001b[0;34m(\u001b[0m\u001b[0;34m[\u001b[0m\u001b[0mbeta0\u001b[0m\u001b[0;34m,\u001b[0m \u001b[0mbeta1\u001b[0m\u001b[0;34m,\u001b[0m \u001b[0mbeta2\u001b[0m\u001b[0;34m,\u001b[0m \u001b[0mbeta3\u001b[0m\u001b[0;34m]\u001b[0m\u001b[0;34m)\u001b[0m\u001b[0;34m\u001b[0m\u001b[0;34m\u001b[0m\u001b[0m\n\u001b[0;32m---> 18\u001b[0;31m     \u001b[0msol_object\u001b[0m \u001b[0;34m=\u001b[0m \u001b[0msolve_ivp\u001b[0m\u001b[0;34m(\u001b[0m\u001b[0mfun\u001b[0m \u001b[0;34m=\u001b[0m \u001b[0msusceptible_pop_eq_b\u001b[0m\u001b[0;34m,\u001b[0m \u001b[0mt_span\u001b[0m \u001b[0;34m=\u001b[0m \u001b[0;34m(\u001b[0m\u001b[0;36m0\u001b[0m\u001b[0;34m,\u001b[0m\u001b[0;36m20\u001b[0m\u001b[0;34m)\u001b[0m\u001b[0;34m,\u001b[0m \u001b[0my0\u001b[0m \u001b[0;34m=\u001b[0m \u001b[0my\u001b[0m\u001b[0;34m,\u001b[0m \u001b[0margs\u001b[0m \u001b[0;34m=\u001b[0m \u001b[0;34m(\u001b[0m\u001b[0mbeta\u001b[0m\u001b[0;34m)\u001b[0m\u001b[0;34m)\u001b[0m\u001b[0;34m\u001b[0m\u001b[0;34m\u001b[0m\u001b[0m\n\u001b[0m\u001b[1;32m     19\u001b[0m     \u001b[0msolution\u001b[0m \u001b[0;34m=\u001b[0m \u001b[0msol_object\u001b[0m\u001b[0;34m.\u001b[0m\u001b[0msol\u001b[0m\u001b[0;34m(\u001b[0m\u001b[0;34m)\u001b[0m\u001b[0;34m[\u001b[0m\u001b[0;36m4\u001b[0m\u001b[0;34m:\u001b[0m\u001b[0;36m8\u001b[0m\u001b[0;34m]\u001b[0m\u001b[0;34m.\u001b[0m\u001b[0msum\u001b[0m\u001b[0;34m(\u001b[0m\u001b[0;34m)\u001b[0m\u001b[0;34m*\u001b[0m\u001b[0mL_c\u001b[0m\u001b[0;34m[\u001b[0m\u001b[0;36m0\u001b[0m\u001b[0;34m]\u001b[0m\u001b[0;34m\u001b[0m\u001b[0;34m\u001b[0m\u001b[0m\n\u001b[1;32m     20\u001b[0m     \u001b[0mmse\u001b[0m \u001b[0;34m=\u001b[0m \u001b[0mmean_squared_error\u001b[0m\u001b[0;34m(\u001b[0m\u001b[0mL_validation\u001b[0m\u001b[0;34m[\u001b[0m\u001b[0;36m0\u001b[0m\u001b[0;34m]\u001b[0m\u001b[0;34m[\u001b[0m\u001b[0;36m0\u001b[0m\u001b[0;34m]\u001b[0m\u001b[0;34m,\u001b[0m \u001b[0msolution\u001b[0m\u001b[0;34m)\u001b[0m\u001b[0;34m\u001b[0m\u001b[0;34m\u001b[0m\u001b[0m\n",
      "\u001b[0;32m~/opt/anaconda3/lib/python3.7/site-packages/scipy/integrate/_ivp/ivp.py\u001b[0m in \u001b[0;36msolve_ivp\u001b[0;34m(fun, t_span, y0, method, t_eval, dense_output, events, vectorized, args, **options)\u001b[0m\n\u001b[1;32m    541\u001b[0m         \u001b[0mmethod\u001b[0m \u001b[0;34m=\u001b[0m \u001b[0mMETHODS\u001b[0m\u001b[0;34m[\u001b[0m\u001b[0mmethod\u001b[0m\u001b[0;34m]\u001b[0m\u001b[0;34m\u001b[0m\u001b[0;34m\u001b[0m\u001b[0m\n\u001b[1;32m    542\u001b[0m \u001b[0;34m\u001b[0m\u001b[0m\n\u001b[0;32m--> 543\u001b[0;31m     \u001b[0msolver\u001b[0m \u001b[0;34m=\u001b[0m \u001b[0mmethod\u001b[0m\u001b[0;34m(\u001b[0m\u001b[0mfun\u001b[0m\u001b[0;34m,\u001b[0m \u001b[0mt0\u001b[0m\u001b[0;34m,\u001b[0m \u001b[0my0\u001b[0m\u001b[0;34m,\u001b[0m \u001b[0mtf\u001b[0m\u001b[0;34m,\u001b[0m \u001b[0mvectorized\u001b[0m\u001b[0;34m=\u001b[0m\u001b[0mvectorized\u001b[0m\u001b[0;34m,\u001b[0m \u001b[0;34m**\u001b[0m\u001b[0moptions\u001b[0m\u001b[0;34m)\u001b[0m\u001b[0;34m\u001b[0m\u001b[0;34m\u001b[0m\u001b[0m\n\u001b[0m\u001b[1;32m    544\u001b[0m \u001b[0;34m\u001b[0m\u001b[0m\n\u001b[1;32m    545\u001b[0m     \u001b[0;32mif\u001b[0m \u001b[0mt_eval\u001b[0m \u001b[0;32mis\u001b[0m \u001b[0;32mNone\u001b[0m\u001b[0;34m:\u001b[0m\u001b[0;34m\u001b[0m\u001b[0;34m\u001b[0m\u001b[0m\n",
      "\u001b[0;32m~/opt/anaconda3/lib/python3.7/site-packages/scipy/integrate/_ivp/rk.py\u001b[0m in \u001b[0;36m__init__\u001b[0;34m(self, fun, t0, y0, t_bound, max_step, rtol, atol, vectorized, first_step, **extraneous)\u001b[0m\n\u001b[1;32m     93\u001b[0m         \u001b[0mself\u001b[0m\u001b[0;34m.\u001b[0m\u001b[0mmax_step\u001b[0m \u001b[0;34m=\u001b[0m \u001b[0mvalidate_max_step\u001b[0m\u001b[0;34m(\u001b[0m\u001b[0mmax_step\u001b[0m\u001b[0;34m)\u001b[0m\u001b[0;34m\u001b[0m\u001b[0;34m\u001b[0m\u001b[0m\n\u001b[1;32m     94\u001b[0m         \u001b[0mself\u001b[0m\u001b[0;34m.\u001b[0m\u001b[0mrtol\u001b[0m\u001b[0;34m,\u001b[0m \u001b[0mself\u001b[0m\u001b[0;34m.\u001b[0m\u001b[0matol\u001b[0m \u001b[0;34m=\u001b[0m \u001b[0mvalidate_tol\u001b[0m\u001b[0;34m(\u001b[0m\u001b[0mrtol\u001b[0m\u001b[0;34m,\u001b[0m \u001b[0matol\u001b[0m\u001b[0;34m,\u001b[0m \u001b[0mself\u001b[0m\u001b[0;34m.\u001b[0m\u001b[0mn\u001b[0m\u001b[0;34m)\u001b[0m\u001b[0;34m\u001b[0m\u001b[0;34m\u001b[0m\u001b[0m\n\u001b[0;32m---> 95\u001b[0;31m         \u001b[0mself\u001b[0m\u001b[0;34m.\u001b[0m\u001b[0mf\u001b[0m \u001b[0;34m=\u001b[0m \u001b[0mself\u001b[0m\u001b[0;34m.\u001b[0m\u001b[0mfun\u001b[0m\u001b[0;34m(\u001b[0m\u001b[0mself\u001b[0m\u001b[0;34m.\u001b[0m\u001b[0mt\u001b[0m\u001b[0;34m,\u001b[0m \u001b[0mself\u001b[0m\u001b[0;34m.\u001b[0m\u001b[0my\u001b[0m\u001b[0;34m)\u001b[0m\u001b[0;34m\u001b[0m\u001b[0;34m\u001b[0m\u001b[0m\n\u001b[0m\u001b[1;32m     96\u001b[0m         \u001b[0;32mif\u001b[0m \u001b[0mfirst_step\u001b[0m \u001b[0;32mis\u001b[0m \u001b[0;32mNone\u001b[0m\u001b[0;34m:\u001b[0m\u001b[0;34m\u001b[0m\u001b[0;34m\u001b[0m\u001b[0m\n\u001b[1;32m     97\u001b[0m             self.h_abs = select_initial_step(\n",
      "\u001b[0;32m~/opt/anaconda3/lib/python3.7/site-packages/scipy/integrate/_ivp/base.py\u001b[0m in \u001b[0;36mfun\u001b[0;34m(t, y)\u001b[0m\n\u001b[1;32m    137\u001b[0m         \u001b[0;32mdef\u001b[0m \u001b[0mfun\u001b[0m\u001b[0;34m(\u001b[0m\u001b[0mt\u001b[0m\u001b[0;34m,\u001b[0m \u001b[0my\u001b[0m\u001b[0;34m)\u001b[0m\u001b[0;34m:\u001b[0m\u001b[0;34m\u001b[0m\u001b[0;34m\u001b[0m\u001b[0m\n\u001b[1;32m    138\u001b[0m             \u001b[0mself\u001b[0m\u001b[0;34m.\u001b[0m\u001b[0mnfev\u001b[0m \u001b[0;34m+=\u001b[0m \u001b[0;36m1\u001b[0m\u001b[0;34m\u001b[0m\u001b[0;34m\u001b[0m\u001b[0m\n\u001b[0;32m--> 139\u001b[0;31m             \u001b[0;32mreturn\u001b[0m \u001b[0mself\u001b[0m\u001b[0;34m.\u001b[0m\u001b[0mfun_single\u001b[0m\u001b[0;34m(\u001b[0m\u001b[0mt\u001b[0m\u001b[0;34m,\u001b[0m \u001b[0my\u001b[0m\u001b[0;34m)\u001b[0m\u001b[0;34m\u001b[0m\u001b[0;34m\u001b[0m\u001b[0m\n\u001b[0m\u001b[1;32m    140\u001b[0m \u001b[0;34m\u001b[0m\u001b[0m\n\u001b[1;32m    141\u001b[0m         \u001b[0mself\u001b[0m\u001b[0;34m.\u001b[0m\u001b[0mfun\u001b[0m \u001b[0;34m=\u001b[0m \u001b[0mfun\u001b[0m\u001b[0;34m\u001b[0m\u001b[0;34m\u001b[0m\u001b[0m\n",
      "\u001b[0;32m~/opt/anaconda3/lib/python3.7/site-packages/scipy/integrate/_ivp/base.py\u001b[0m in \u001b[0;36mfun_wrapped\u001b[0;34m(t, y)\u001b[0m\n\u001b[1;32m     19\u001b[0m \u001b[0;34m\u001b[0m\u001b[0m\n\u001b[1;32m     20\u001b[0m     \u001b[0;32mdef\u001b[0m \u001b[0mfun_wrapped\u001b[0m\u001b[0;34m(\u001b[0m\u001b[0mt\u001b[0m\u001b[0;34m,\u001b[0m \u001b[0my\u001b[0m\u001b[0;34m)\u001b[0m\u001b[0;34m:\u001b[0m\u001b[0;34m\u001b[0m\u001b[0;34m\u001b[0m\u001b[0m\n\u001b[0;32m---> 21\u001b[0;31m         \u001b[0;32mreturn\u001b[0m \u001b[0mnp\u001b[0m\u001b[0;34m.\u001b[0m\u001b[0masarray\u001b[0m\u001b[0;34m(\u001b[0m\u001b[0mfun\u001b[0m\u001b[0;34m(\u001b[0m\u001b[0mt\u001b[0m\u001b[0;34m,\u001b[0m \u001b[0my\u001b[0m\u001b[0;34m)\u001b[0m\u001b[0;34m,\u001b[0m \u001b[0mdtype\u001b[0m\u001b[0;34m=\u001b[0m\u001b[0mdtype\u001b[0m\u001b[0;34m)\u001b[0m\u001b[0;34m\u001b[0m\u001b[0;34m\u001b[0m\u001b[0m\n\u001b[0m\u001b[1;32m     22\u001b[0m \u001b[0;34m\u001b[0m\u001b[0m\n\u001b[1;32m     23\u001b[0m     \u001b[0;32mreturn\u001b[0m \u001b[0mfun_wrapped\u001b[0m\u001b[0;34m,\u001b[0m \u001b[0my0\u001b[0m\u001b[0;34m\u001b[0m\u001b[0;34m\u001b[0m\u001b[0m\n",
      "\u001b[0;32m~/opt/anaconda3/lib/python3.7/site-packages/scipy/integrate/_ivp/ivp.py\u001b[0m in \u001b[0;36m<lambda>\u001b[0;34m(t, x, fun)\u001b[0m\n\u001b[1;32m    513\u001b[0m         \u001b[0;31m# additional parameters.  Pass in the original fun as a keyword\u001b[0m\u001b[0;34m\u001b[0m\u001b[0;34m\u001b[0m\u001b[0;34m\u001b[0m\u001b[0m\n\u001b[1;32m    514\u001b[0m         \u001b[0;31m# argument to keep it in the scope of the lambda.\u001b[0m\u001b[0;34m\u001b[0m\u001b[0;34m\u001b[0m\u001b[0;34m\u001b[0m\u001b[0m\n\u001b[0;32m--> 515\u001b[0;31m         \u001b[0mfun\u001b[0m \u001b[0;34m=\u001b[0m \u001b[0;32mlambda\u001b[0m \u001b[0mt\u001b[0m\u001b[0;34m,\u001b[0m \u001b[0mx\u001b[0m\u001b[0;34m,\u001b[0m \u001b[0mfun\u001b[0m\u001b[0;34m=\u001b[0m\u001b[0mfun\u001b[0m\u001b[0;34m:\u001b[0m \u001b[0mfun\u001b[0m\u001b[0;34m(\u001b[0m\u001b[0mt\u001b[0m\u001b[0;34m,\u001b[0m \u001b[0mx\u001b[0m\u001b[0;34m,\u001b[0m \u001b[0;34m*\u001b[0m\u001b[0margs\u001b[0m\u001b[0;34m)\u001b[0m\u001b[0;34m\u001b[0m\u001b[0;34m\u001b[0m\u001b[0m\n\u001b[0m\u001b[1;32m    516\u001b[0m         \u001b[0mjac\u001b[0m \u001b[0;34m=\u001b[0m \u001b[0moptions\u001b[0m\u001b[0;34m.\u001b[0m\u001b[0mget\u001b[0m\u001b[0;34m(\u001b[0m\u001b[0;34m'jac'\u001b[0m\u001b[0;34m)\u001b[0m\u001b[0;34m\u001b[0m\u001b[0;34m\u001b[0m\u001b[0m\n\u001b[1;32m    517\u001b[0m         \u001b[0;32mif\u001b[0m \u001b[0mcallable\u001b[0m\u001b[0;34m(\u001b[0m\u001b[0mjac\u001b[0m\u001b[0;34m)\u001b[0m\u001b[0;34m:\u001b[0m\u001b[0;34m\u001b[0m\u001b[0;34m\u001b[0m\u001b[0m\n",
      "\u001b[0;31mTypeError\u001b[0m: susceptible_pop_eq_b() takes 3 positional arguments but 6 were given"
     ]
    }
   ],
   "source": [
    "from sklearn.metrics import mean_squared_error\n",
    "from itertools import product\n",
    "# Gridsearch\n",
    "# We want to estimate beta \n",
    "# We will try different values of beta and see which one fits better the data\n",
    "# How? We find I_c and then for each node find L_estimated and compare it with L_validation\n",
    "Sc_pmf = np.array([0.5, 0.3, 0.1, 0.1])\n",
    "Ic_0_ = Ic_0[0] # Infected people by compartment for first node\n",
    "Sc_0 = Sc_pmf * (N - Ic_0_)\n",
    "R_0 = 0\n",
    "y = np.concatenate((Ic_0_, Sc_0, [R_0])) \n",
    "beta_grid = np.linspace(0,1,21)\n",
    "\n",
    "print(beta_grid)\n",
    "for (beta0, beta1, beta2, beta3) in product(beta_grid, beta_grid, beta_grid, beta_grid):\n",
    "#     Construct y, which has S_0, I_0, R_0\n",
    "    beta = np.array([beta0, beta1, beta2, beta3])\n",
    "    sol_object = solve_ivp(fun = susceptible_pop_eq_b, t_span = (0,20), y0 = y, args = (beta))\n",
    "    solution = sol_object.sol()[4:8].sum()*L_c[0] # Calculate L estimated\n",
    "    mse = mean_squared_error(L_validation[0][0], solution) # Do mse of L estimated and L validation\n",
    "    if mse < mmse:\n",
    "        beta_mmse = beta "
   ]
  },
  {
   "cell_type": "code",
   "execution_count": null,
   "metadata": {},
   "outputs": [],
   "source": []
  },
  {
   "cell_type": "code",
   "execution_count": null,
   "metadata": {},
   "outputs": [],
   "source": []
  },
  {
   "cell_type": "code",
   "execution_count": null,
   "metadata": {},
   "outputs": [],
   "source": []
  }
 ],
 "metadata": {
  "kernelspec": {
   "display_name": "Python 3",
   "language": "python",
   "name": "python3"
  },
  "language_info": {
   "codemirror_mode": {
    "name": "ipython",
    "version": 3
   },
   "file_extension": ".py",
   "mimetype": "text/x-python",
   "name": "python",
   "nbconvert_exporter": "python",
   "pygments_lexer": "ipython3",
   "version": "3.7.6"
  }
 },
 "nbformat": 4,
 "nbformat_minor": 4
}
