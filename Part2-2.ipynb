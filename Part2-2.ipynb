{
 "cells": [
  {
   "cell_type": "markdown",
   "metadata": {},
   "source": [
    "# Project Part 2 Solutions"
   ]
  },
  {
   "cell_type": "markdown",
   "metadata": {},
   "source": [
    "## (a)"
   ]
  },
  {
   "cell_type": "code",
   "execution_count": 66,
   "metadata": {},
   "outputs": [
    {
     "data": {
      "text/plain": [
       "100"
      ]
     },
     "execution_count": 66,
     "metadata": {},
     "output_type": "execute_result"
    }
   ],
   "source": [
    "import numpy as np\n",
    "\n",
    "file=np.load(\"part2.npz\")\n",
    "beta_old=file['beta_old']\n",
    "N=file['N']\n",
    "Svc_0_PMF=file['Svc_0_PMF']\n",
    "Lc=file['Lc']\n",
    "Ic_0=file['Ic_0']\n",
    "gamma=file['gamma']\n",
    "L_observed=file['L_observed']\n",
    "nb_nodes = Svc_0_PMF.shape[0]"
   ]
  },
  {
   "cell_type": "code",
   "execution_count": 6,
   "metadata": {},
   "outputs": [],
   "source": [
    "def SIR(t, Z, N, betas, gamma):\n",
    "    (S_vec, I_vec, R) = (Z[:16].reshape(4, 4), Z[16:20], Z[-1])\n",
    "    I = I_vec.sum()\n",
    "    dSdt = -betas*S_vec*I/N \n",
    "    dIdt = -dSdt.sum(axis=0)-gamma*I_vec\n",
    "    dRdt = np.array([gamma*I])\n",
    "    return np.concatenate((dSdt.flatten(), dIdt, dRdt))"
   ]
  },
  {
   "cell_type": "code",
   "execution_count": 73,
   "metadata": {},
   "outputs": [
    {
     "name": "stdout",
     "output_type": "stream",
     "text": [
      "[0.13437347 0.14959717 0.15996704 0.16158829 0.16306152 0.16851807\n",
      " 0.17086182 0.17155762 0.17612305 0.17961426 0.18221436 0.18603516\n",
      " 0.18710937 0.19025879 0.20031738 0.20330505 0.20419922 0.20612793\n",
      " 0.20684509 0.2128418  0.21408691 0.2162323  0.21859131 0.22739258\n",
      " 0.23042603 0.23352203 0.24157715 0.24465332 0.24894104 0.25119629\n",
      " 0.25798035 0.25991821 0.26757812 0.26948242 0.27169952 0.27301636\n",
      " 0.28005524 0.28283691 0.28662109 0.28800049 0.2930542  0.2992981\n",
      " 0.29938354 0.30321045 0.30422821 0.30437317 0.30966797 0.31420898\n",
      " 0.32382202 0.3296875  0.32988281 0.33074341 0.33313293 0.33355408\n",
      " 0.3498291  0.35234375 0.35657806 0.35756836 0.35844421 0.36207275\n",
      " 0.36960449 0.37071838 0.37946777 0.38393707 0.3860054  0.39033203\n",
      " 0.40922546 0.41445465 0.41787415 0.41876221 0.42476807 0.43438721\n",
      " 0.43756104 0.44870605 0.44996338 0.45647888 0.47091064 0.48615723\n",
      " 0.5023941  0.50705566 0.50830688 0.52108459 0.53604736 0.55296021\n",
      " 0.55423279 0.56278687 0.58075714 0.59566956 0.63847961 0.64515076\n",
      " 0.65092468 0.66049652 0.67788239 0.68381958 0.69438477 0.69835815\n",
      " 0.70975342 0.86357422 0.92822266 0.95327148]\n"
     ]
    }
   ],
   "source": [
    "from scipy.integrate import solve_ivp\n",
    "from scipy.optimize import fmin\n",
    "from sklearn.metrics import mean_squared_error\n",
    "\n",
    "Svc_0_PMF /= Svc_0_PMF.sum(axis=(1, 2), keepdims=True)\n",
    "Svc_0 = (N-Ic_0.sum(axis=1))[:, np.newaxis, np.newaxis]*Svc_0_PMF\n",
    "Svc_0 = Svc_0.round().astype(int)\n",
    "R0 = np.zeros((nb_nodes)).astype(int)\n",
    "\n",
    "t = np.linspace(0, 199, 200)\n",
    "\n",
    "S = np.zeros((nb_nodes, 4, 4, len(t)))\n",
    "I = np.zeros((nb_nodes, 4, len(t)))\n",
    "R = np.zeros((nb_nodes, len(t)))\n",
    "L = np.zeros((nb_nodes, len(t)))\n",
    "\n",
    "for N_node, node_index in zip(N, range(nb_nodes)):\n",
    "\n",
    "    initial_conditions = np.concatenate(\n",
    "        (Svc_0[node_index].flatten(), Ic_0[node_index], [R0[node_index]]))\n",
    "\n",
    "    soln = solve_ivp(\n",
    "        SIR, (t[0], t[9]), initial_conditions, args=(N_node, beta_old, gamma), t_eval=t[:10])\n",
    "\n",
    "    S[node_index, :, :, :10] = soln.y[:16].reshape(4, 4, -1)\n",
    "    I[node_index, :, :10] = soln.y[16:20]\n",
    "    R[node_index, :10] = soln.y[20]\n",
    "    L[node_index, :10] = Lc@soln.y[16:20]\n",
    "\n",
    "\n",
    "alpha_predicted = np.zeros((nb_nodes))\n",
    "\n",
    "def loss_func(alpha):\n",
    "    ###### WRITE YOUR FUNCTION HERE\n",
    "    Z = np.concatenate((S[node_index,:,:,9].flatten(), I[node_index,:,9], [R[node_index,9]]))\n",
    "    beta_new = beta_old * alpha\n",
    "    soln = solve_ivp(\n",
    "        SIR, (t[9], t[30]), Z, args=(N_node, beta_new, gamma), t_eval=t[9:30])\n",
    "    \n",
    "    L[node_index, 9:30] = Lc@soln.y[16:20]\n",
    "    mse = mean_squared_error(L[node_index, 9:30], L_observed[node_index][9:30])\n",
    "    \n",
    "    return mse\n",
    "\n",
    "for N_node, node_index in zip(N, range(nb_nodes)):\n",
    "    alpha_predicted[node_index] = fmin(loss_func, 0.5, disp=False)\n",
    "\n",
    "print(np.sort(alpha_predicted))"
   ]
  },
  {
   "cell_type": "markdown",
   "metadata": {},
   "source": [
    "## (b)"
   ]
  },
  {
   "cell_type": "code",
   "execution_count": 74,
   "metadata": {},
   "outputs": [],
   "source": [
    "def g(money):\n",
    "    alpha = 1/np.log2(2*10**(-3)*money+2)\n",
    "    return alpha\n",
    "\n",
    "def g_inv(alpha):\n",
    "    money = (2**(1/alpha)-2)/(2*10**(-3))\n",
    "    return money\n",
    "\n",
    "def calc_alpha(alpha_own, npi):\n",
    "    return g(g_inv(alpha_own) + npi)\n",
    "\n",
    "import matplotlib.pyplot as plt \n",
    "\n",
    "def scatter_plot(alpha_afterNPI):\n",
    "    plt.figure()\n",
    "    colors=(beta_old[np.newaxis,:,:]*Svc_0_PMF).mean(axis=(1,2))\n",
    "    plt.scatter(alpha_predicted, alpha_afterNPI, s=N/500, c=colors, cmap='jet', alpha=0.5)\n",
    "    plt.xlabel(r\"$\\alpha_{own}$\")\n",
    "    plt.ylabel(r\"$\\alpha_{after\\ NPI}$\")\n",
    "\n",
    "def total_recovered_difference(alpha_afterNPI):\n",
    "    \n",
    "    # Difference in total recovered after day 200. Idea: solve_ivp and get recovered at day 100 with \n",
    "    # first alpha and then with second alpha. Compute difference\n",
    "\n",
    "\n",
    "\n",
    "    \n",
    "    \n",
    "    return difference"
   ]
  },
  {
   "cell_type": "markdown",
   "metadata": {},
   "source": [
    "### Policy #1"
   ]
  },
  {
   "cell_type": "markdown",
   "metadata": {},
   "source": [
    "i."
   ]
  },
  {
   "cell_type": "markdown",
   "metadata": {},
   "source": [
    "ii."
   ]
  },
  {
   "cell_type": "code",
   "execution_count": 75,
   "metadata": {},
   "outputs": [
    {
     "data": {
      "image/png": "[encoded data removed]",
      "text/plain": [
       "<Figure size 432x288 with 1 Axes>"
      ]
     },
     "metadata": {
      "needs_background": "light"
     },
     "output_type": "display_data"
    }
   ],
   "source": [
    "import copy\n",
    "alpha_after_policy1 = copy.deepcopy(alpha_predicted)\n",
    "for index, value in enumerate(alpha_predicted):\n",
    "    alpha_after_policy1[index] = calc_alpha(value, 10000) # We are spending same amount of money in each node, so 10000 per node\n",
    "\n",
    "scatter_plot(alpha_after_policy1)"
   ]
  },
  {
   "cell_type": "markdown",
   "metadata": {},
   "source": [
    "### Policy #2"
   ]
  },
  {
   "cell_type": "markdown",
   "metadata": {},
   "source": [
    "i. "
   ]
  },
  {
   "cell_type": "markdown",
   "metadata": {},
   "source": [
    "ii."
   ]
  },
  {
   "cell_type": "code",
   "execution_count": 76,
   "metadata": {},
   "outputs": [
    {
     "data": {
      "image/png": "[encoded data removed]",
      "text/plain": [
       "<Figure size 432x288 with 1 Axes>"
      ]
     },
     "metadata": {
      "needs_background": "light"
     },
     "output_type": "display_data"
    }
   ],
   "source": [
    "budget = 1000000 # Total to spend\n",
    "N_proportional = N/N.sum()\n",
    "alpha_after_policy2 = copy.deepcopy(alpha_predicted)\n",
    "for index, value in enumerate(alpha_predicted):\n",
    "    alpha_after_policy2[index] = calc_alpha(value, N_proportional[index]*budget) # We are spending same amount of money in each node, so 10000 per node\n",
    "\n",
    "scatter_plot(alpha_after_policy2)"
   ]
  },
  {
   "cell_type": "markdown",
   "metadata": {},
   "source": [
    "### Policy #3"
   ]
  },
  {
   "cell_type": "markdown",
   "metadata": {},
   "source": [
    "i."
   ]
  },
  {
   "cell_type": "markdown",
   "metadata": {},
   "source": [
    "ii."
   ]
  },
  {
   "cell_type": "code",
   "execution_count": null,
   "metadata": {},
   "outputs": [],
   "source": [
    "def difference_budget(delta_alpha):\n",
    "    "
   ]
  },
  {
   "cell_type": "markdown",
   "metadata": {},
   "source": [
    "### Policy #4"
   ]
  },
  {
   "cell_type": "markdown",
   "metadata": {},
   "source": [
    "i."
   ]
  },
  {
   "cell_type": "markdown",
   "metadata": {},
   "source": [
    "ii."
   ]
  },
  {
   "cell_type": "markdown",
   "metadata": {},
   "source": [
    "## (c)"
   ]
  },
  {
   "cell_type": "markdown",
   "metadata": {},
   "source": [
    "### Policy 1"
   ]
  },
  {
   "cell_type": "markdown",
   "metadata": {},
   "source": [
    "### Policy 2"
   ]
  },
  {
   "cell_type": "markdown",
   "metadata": {},
   "source": [
    "### Policy 3"
   ]
  },
  {
   "cell_type": "markdown",
   "metadata": {},
   "source": [
    "### Policy 4"
   ]
  }
 ],
 "metadata": {
  "kernelspec": {
   "display_name": "Python 3",
   "language": "python",
   "name": "python3"
  },
  "language_info": {
   "codemirror_mode": {
    "name": "ipython",
    "version": 3
   },
   "file_extension": ".py",
   "mimetype": "text/x-python",
   "name": "python",
   "nbconvert_exporter": "python",
   "pygments_lexer": "ipython3",
   "version": "3.7.6"
  }
 },
 "nbformat": 4,
 "nbformat_minor": 2
}
